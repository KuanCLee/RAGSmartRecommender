{
 "cells": [
  {
   "cell_type": "code",
   "execution_count": 1,
   "id": "a0d12723",
   "metadata": {},
   "outputs": [
    {
     "name": "stdout",
     "output_type": "stream",
     "text": [
      "Downloaded files: ['amazon.csv']\n"
     ]
    },
    {
     "name": "stderr",
     "output_type": "stream",
     "text": [
      "C:\\Users\\Kuan-ChihLee\\AppData\\Local\\Temp\\ipykernel_3916\\3784915400.py:38: LangChainDeprecationWarning: The class `OpenAIEmbeddings` was deprecated in LangChain 0.0.9 and will be removed in 1.0. An updated version of the class exists in the :class:`~langchain-openai package and should be used instead. To use it run `pip install -U :class:`~langchain-openai` and import as `from :class:`~langchain_openai import OpenAIEmbeddings``.\n",
      "  embedding_model = OpenAIEmbeddings()\n"
     ]
    }
   ],
   "source": [
    "import kagglehub\n",
    "import pandas as pd\n",
    "import os\n",
    "from dotenv import load_dotenv\n",
    "from langchain.vectorstores import Chroma\n",
    "from langchain.embeddings import OpenAIEmbeddings\n",
    "from langchain.schema import Document\n",
    "import chromadb\n",
    "import time\n",
    "from langchain.vectorstores import Chroma\n",
    "\n",
    "load_dotenv(dotenv_path=\"Kuan.env\") \n",
    "openai_key = os.getenv(\"OPENAI_API_KEY\")\n",
    "\n",
    "\n",
    "# Download dataset (returns the folder path)\n",
    "dataset_dir = kagglehub.dataset_download(\"karkavelrajaj/amazon-sales-dataset\")\n",
    "\n",
    "# List files in the folder to find the CSV\n",
    "files = os.listdir(dataset_dir)\n",
    "print(\"Downloaded files:\", files)\n",
    "\n",
    "# Assuming the file you want is the only one or named clearly:\n",
    "csv_path = os.path.join(dataset_dir, files[0])  # Adjust if multiple files\n",
    "\n",
    "# Read the file (check whether it's tab-separated first!)\n",
    "df = pd.read_csv(csv_path, sep=',', on_bad_lines='skip')\n",
    "df_json = df.to_dict(orient='records')\n",
    "\n",
    "documents = [\n",
    "    Document(\n",
    "        page_content=\"; \".join([f\"{k}: {str(v)}\" for k, v in record.items()]),\n",
    "        metadata=record\n",
    "    )\n",
    "    for record in df_json\n",
    "]\n",
    "\n",
    "embedding_model = OpenAIEmbeddings()\n"
   ]
  },
  {
   "cell_type": "code",
   "execution_count": 20,
   "id": "a59f3ea0",
   "metadata": {},
   "outputs": [
    {
     "data": {
      "text/plain": [
       "1465"
      ]
     },
     "execution_count": 20,
     "metadata": {},
     "output_type": "execute_result"
    }
   ],
   "source": [
    "len(documents)"
   ]
  },
  {
   "cell_type": "code",
   "execution_count": 21,
   "id": "2ccdfedb",
   "metadata": {},
   "outputs": [
    {
     "ename": "",
     "evalue": "",
     "output_type": "error",
     "traceback": [
      "\u001b[1;31mThe Kernel crashed while executing code in the current cell or a previous cell. \n",
      "\u001b[1;31mPlease review the code in the cell(s) to identify a possible cause of the failure. \n",
      "\u001b[1;31mClick <a href='https://aka.ms/vscodeJupyterKernelCrash'>here</a> for more info. \n",
      "\u001b[1;31mView Jupyter <a href='command:jupyter.viewOutput'>log</a> for further details."
     ]
    }
   ],
   "source": [
    "embedding_model = OpenAIEmbeddings()\n",
    "\n",
    "persist_dir = \"./vector_database\"\n",
    "collection_name = \"my_collection\"\n",
    "\n",
    "def chunk_list(lst, n):\n",
    "    for i in range(0, len(lst), n):\n",
    "        yield lst[i : i + n]\n",
    "\n",
    "batch_size = 50  # smaller batch to avoid token limit\n",
    "\n",
    "for batch_idx, batch_docs in enumerate(chunk_list(documents, batch_size)):\n",
    "    vectorstore = Chroma.from_documents(\n",
    "        documents=batch_docs,\n",
    "        embedding=embedding_model,\n",
    "        collection_name=f\"{collection_name}_batch_{batch_idx}\",\n",
    "        persist_directory=persist_dir,\n",
    "    )\n",
    "    vectorstore.persist()\n",
    "    print(f\"Persisted batch {batch_idx + 1}\")\n",
    "\n",
    "print(\"All batches processed!\")\n"
   ]
  },
  {
   "cell_type": "code",
   "execution_count": null,
   "id": "64f16969",
   "metadata": {},
   "outputs": [
    {
     "name": "stdout",
     "output_type": "stream",
     "text": [
      "Added batch 1\n",
      "All batches added and collection persisted.\n"
     ]
    }
   ],
   "source": [
    "embedding_model = OpenAIEmbeddings()\n",
    "\n",
    "persist_dir = \"./vector_database\"\n",
    "collection_name = \"my_combined_collection\"\n",
    "\n",
    "# Initialize or load existing vectorstore\n",
    "vectorstore = Chroma(\n",
    "    collection_name=collection_name,\n",
    "    embedding_function=embedding_model,\n",
    "    persist_directory=persist_dir,\n",
    ")\n",
    "\n",
    "def chunk_list(lst, n):\n",
    "    for i in range(0, len(lst), n):\n",
    "        yield lst[i : i + n]\n",
    "\n",
    "batch_size = 50\n",
    "\n",
    "for batch_idx, batch_docs in enumerate(chunk_list(documents, batch_size)):\n",
    "    # Convert each raw text string to a Document object\n",
    "    docs = [Document(page_content=doc) for doc in batch_docs]\n",
    "    vectorstore.add_documents(docs)\n",
    "    print(f\"Added batch {batch_idx + 1}\")\n",
    "\n",
    "vectorstore.persist()\n",
    "print(\"All batches added and collection persisted.\")\n",
    "query = \"What is the fastest USB drive available?\"\n"
   ]
  },
  {
   "cell_type": "code",
   "execution_count": 3,
   "id": "e19e38ac",
   "metadata": {},
   "outputs": [
    {
     "name": "stderr",
     "output_type": "stream",
     "text": [
      "C:\\Users\\Kuan-ChihLee\\AppData\\Local\\Temp\\ipykernel_3916\\1984886844.py:3: LangChainDeprecationWarning: The class `Chroma` was deprecated in LangChain 0.2.9 and will be removed in 1.0. An updated version of the class exists in the :class:`~langchain-chroma package and should be used instead. To use it run `pip install -U :class:`~langchain-chroma` and import as `from :class:`~langchain_chroma import Chroma``.\n",
      "  retriever = Chroma(\n"
     ]
    }
   ],
   "source": [
    "\n",
    "RETRIEVED_DOCS_N = 5  \n",
    "\n",
    "retriever = Chroma(\n",
    "    collection_name=\"my_combined_collection\",  \n",
    "    embedding_function=embedding_model,        \n",
    "    persist_directory=\"./vector_database\"\n",
    ").as_retriever(search_kwargs={\"k\": RETRIEVED_DOCS_N})\n"
   ]
  },
  {
   "cell_type": "code",
   "execution_count": null,
   "id": "48f2f3f8",
   "metadata": {},
   "outputs": [
    {
     "name": "stderr",
     "output_type": "stream",
     "text": [
      "C:\\Users\\Kuan-ChihLee\\AppData\\Local\\Temp\\ipykernel_3916\\1349448061.py:2: LangChainDeprecationWarning: The method `BaseRetriever.get_relevant_documents` was deprecated in langchain-core 0.1.46 and will be removed in 1.0. Use :meth:`~invoke` instead.\n",
      "  results = retriever.get_relevant_documents(query)\n"
     ]
    },
    {
     "name": "stdout",
     "output_type": "stream",
     "text": [
      "\n",
      "--- Document 1 ---\n",
      "product_id: B07XLCFSSN; product_name: Amazonbasics Nylon Braided Usb-C To Lightning Cable, Fast Charging Mfi Certified Smartphone, Iphone Charger (6-Foot, Dark Grey); category: Computers&Accessories|Accessories&Peripherals|Cables&Accessories|Cables|USBCables; discounted_price: ₹899; actual_price: ₹1...\n",
      "\n",
      "--- Document 2 ---\n",
      "product_id: B09W5XR9RT; product_name: Duracell USB C To Lightning Apple Certified (Mfi) Braided Sync & Charge Cable For Iphone, Ipad And Ipod. Fast Charging Lightning Cable, 3.9 Feet (1.2M) - Black; category: Computers&Accessories|Accessories&Peripherals|Cables&Accessories|Cables|USBCables; discount...\n",
      "\n",
      "--- Document 3 ---\n",
      "product_id: B09C6HXFC1; product_name: Duracell USB Lightning Apple Certified (Mfi) Braided Sync & Charge Cable For Iphone, Ipad And Ipod. Fast Charging Lightning Cable, 3.9 Feet (1.2M) - Black; category: Computers&Accessories|Accessories&Peripherals|Cables&Accessories|Cables|USBCables; discounted_pr...\n",
      "\n",
      "--- Document 4 ---\n",
      "product_id: B07JW9H4J1; product_name: Wayona Nylon Braided USB to Lightning Fast Charging and Data Sync Cable Compatible for iPhone 13, 12,11, X, 8, 7, 6, 5, iPad Air, Pro, Mini (3 FT Pack of 1, Grey); category: Computers&Accessories|Accessories&Peripherals|Cables&Accessories|Cables|USBCables; disco...\n",
      "\n",
      "--- Document 5 ---\n",
      "product_id: B08WRWPM22; product_name: boAt Micro USB 55 Tangle-free, Sturdy Micro USB Cable with 3A Fast Charging & 480mbps Data Transmission (Black); category: Computers&Accessories|Accessories&Peripherals|Cables&Accessories|Cables|USBCables; discounted_price: ₹176.63; actual_price: ₹499; discount_...\n"
     ]
    }
   ],
   "source": [
    "query = \"what the most Lightning Fast USB \"\n",
    "results = retriever.get_relevant_documents(query)\n",
    "\n",
    "for i, doc in enumerate(results):\n",
    "    print(f\"\\n--- Document {i+1} ---\\n{doc.page_content[:300]}...\")\n"
   ]
  },
  {
   "cell_type": "code",
   "execution_count": null,
   "id": "5c9d5ceb",
   "metadata": {},
   "outputs": [],
   "source": []
  }
 ],
 "metadata": {
  "kernelspec": {
   "display_name": "Python 3",
   "language": "python",
   "name": "python3"
  },
  "language_info": {
   "codemirror_mode": {
    "name": "ipython",
    "version": 3
   },
   "file_extension": ".py",
   "mimetype": "text/x-python",
   "name": "python",
   "nbconvert_exporter": "python",
   "pygments_lexer": "ipython3",
   "version": "3.10.6"
  }
 },
 "nbformat": 4,
 "nbformat_minor": 5
}
